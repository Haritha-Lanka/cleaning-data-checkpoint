{
 "cells": [
  {
   "cell_type": "markdown",
   "metadata": {
    "azdata_cell_guid": "26037d32-2047-4157-81ef-595916bd66a0"
   },
   "source": [
    "# Checkpoint Three: Cleaning Data\n",
    "\n",
    "Now you are ready to clean your data. Before starting coding, provide the link to your dataset below.\n",
    "\n",
    "My dataset:\n",
    "\n",
    "Import the necessary libraries and create your dataframe(s)."
   ]
  },
  {
   "cell_type": "code",
   "execution_count": 1,
   "metadata": {
    "azdata_cell_guid": "e8adef8e-d0f2-4640-a179-5997f11e82ca"
   },
   "outputs": [],
   "source": [
    "# Import necessary libraries\n",
    "import numpy as np\n",
    "import pandas as pd\n",
    "import matplotlib.pyplot as plt\n",
    "import seaborn as sns\n",
    "%matplotlib inline"
   ]
  },
  {
   "cell_type": "code",
   "execution_count": 2,
   "metadata": {},
   "outputs": [],
   "source": [
    "# create a dataframe asdctdf  (ASD_ChildernTraits.csv)\n",
    "asdctdf=pd.read_csv('ASD_ChildernTraits.csv')"
   ]
  },
  {
   "cell_type": "code",
   "execution_count": 3,
   "metadata": {},
   "outputs": [
    {
     "data": {
      "text/html": [
       "<div>\n",
       "<style scoped>\n",
       "    .dataframe tbody tr th:only-of-type {\n",
       "        vertical-align: middle;\n",
       "    }\n",
       "\n",
       "    .dataframe tbody tr th {\n",
       "        vertical-align: top;\n",
       "    }\n",
       "\n",
       "    .dataframe thead th {\n",
       "        text-align: right;\n",
       "    }\n",
       "</style>\n",
       "<table border=\"1\" class=\"dataframe\">\n",
       "  <thead>\n",
       "    <tr style=\"text-align: right;\">\n",
       "      <th></th>\n",
       "      <th>CASE_NO_PATIENT'S</th>\n",
       "      <th>A1</th>\n",
       "      <th>A2</th>\n",
       "      <th>A3</th>\n",
       "      <th>A4</th>\n",
       "      <th>A5</th>\n",
       "      <th>A6</th>\n",
       "      <th>A7</th>\n",
       "      <th>A8</th>\n",
       "      <th>A9</th>\n",
       "      <th>...</th>\n",
       "      <th>Global developmental delay/intellectual disability</th>\n",
       "      <th>Social/Behavioural Issues</th>\n",
       "      <th>Childhood Autism Rating Scale</th>\n",
       "      <th>Anxiety_disorder</th>\n",
       "      <th>Sex</th>\n",
       "      <th>Ethnicity</th>\n",
       "      <th>Jaundice</th>\n",
       "      <th>Family_mem_with_ASD</th>\n",
       "      <th>Who_completed_the_test</th>\n",
       "      <th>ASD_traits</th>\n",
       "    </tr>\n",
       "  </thead>\n",
       "  <tbody>\n",
       "    <tr>\n",
       "      <th>0</th>\n",
       "      <td>1</td>\n",
       "      <td>0</td>\n",
       "      <td>0</td>\n",
       "      <td>0</td>\n",
       "      <td>0</td>\n",
       "      <td>0</td>\n",
       "      <td>0</td>\n",
       "      <td>1</td>\n",
       "      <td>1</td>\n",
       "      <td>0</td>\n",
       "      <td>...</td>\n",
       "      <td>Yes</td>\n",
       "      <td>Yes</td>\n",
       "      <td>1</td>\n",
       "      <td>Yes</td>\n",
       "      <td>F</td>\n",
       "      <td>middle eastern</td>\n",
       "      <td>Yes</td>\n",
       "      <td>No</td>\n",
       "      <td>Family Member</td>\n",
       "      <td>No</td>\n",
       "    </tr>\n",
       "    <tr>\n",
       "      <th>1</th>\n",
       "      <td>2</td>\n",
       "      <td>1</td>\n",
       "      <td>1</td>\n",
       "      <td>0</td>\n",
       "      <td>0</td>\n",
       "      <td>0</td>\n",
       "      <td>1</td>\n",
       "      <td>1</td>\n",
       "      <td>0</td>\n",
       "      <td>0</td>\n",
       "      <td>...</td>\n",
       "      <td>Yes</td>\n",
       "      <td>Yes</td>\n",
       "      <td>2</td>\n",
       "      <td>Yes</td>\n",
       "      <td>M</td>\n",
       "      <td>White European</td>\n",
       "      <td>Yes</td>\n",
       "      <td>No</td>\n",
       "      <td>Family Member</td>\n",
       "      <td>Yes</td>\n",
       "    </tr>\n",
       "    <tr>\n",
       "      <th>2</th>\n",
       "      <td>3</td>\n",
       "      <td>1</td>\n",
       "      <td>0</td>\n",
       "      <td>0</td>\n",
       "      <td>0</td>\n",
       "      <td>0</td>\n",
       "      <td>0</td>\n",
       "      <td>1</td>\n",
       "      <td>1</td>\n",
       "      <td>0</td>\n",
       "      <td>...</td>\n",
       "      <td>Yes</td>\n",
       "      <td>Yes</td>\n",
       "      <td>4</td>\n",
       "      <td>Yes</td>\n",
       "      <td>M</td>\n",
       "      <td>Middle Eastern</td>\n",
       "      <td>Yes</td>\n",
       "      <td>No</td>\n",
       "      <td>Family Member</td>\n",
       "      <td>Yes</td>\n",
       "    </tr>\n",
       "    <tr>\n",
       "      <th>3</th>\n",
       "      <td>4</td>\n",
       "      <td>1</td>\n",
       "      <td>1</td>\n",
       "      <td>1</td>\n",
       "      <td>1</td>\n",
       "      <td>1</td>\n",
       "      <td>1</td>\n",
       "      <td>1</td>\n",
       "      <td>1</td>\n",
       "      <td>1</td>\n",
       "      <td>...</td>\n",
       "      <td>Yes</td>\n",
       "      <td>Yes</td>\n",
       "      <td>2</td>\n",
       "      <td>Yes</td>\n",
       "      <td>M</td>\n",
       "      <td>Hispanic</td>\n",
       "      <td>No</td>\n",
       "      <td>No</td>\n",
       "      <td>Family Member</td>\n",
       "      <td>Yes</td>\n",
       "    </tr>\n",
       "    <tr>\n",
       "      <th>4</th>\n",
       "      <td>5</td>\n",
       "      <td>1</td>\n",
       "      <td>1</td>\n",
       "      <td>0</td>\n",
       "      <td>1</td>\n",
       "      <td>1</td>\n",
       "      <td>1</td>\n",
       "      <td>1</td>\n",
       "      <td>1</td>\n",
       "      <td>1</td>\n",
       "      <td>...</td>\n",
       "      <td>Yes</td>\n",
       "      <td>Yes</td>\n",
       "      <td>1</td>\n",
       "      <td>Yes</td>\n",
       "      <td>F</td>\n",
       "      <td>White European</td>\n",
       "      <td>No</td>\n",
       "      <td>No</td>\n",
       "      <td>Family Member</td>\n",
       "      <td>Yes</td>\n",
       "    </tr>\n",
       "    <tr>\n",
       "      <th>5</th>\n",
       "      <td>6</td>\n",
       "      <td>1</td>\n",
       "      <td>1</td>\n",
       "      <td>0</td>\n",
       "      <td>0</td>\n",
       "      <td>1</td>\n",
       "      <td>1</td>\n",
       "      <td>1</td>\n",
       "      <td>1</td>\n",
       "      <td>1</td>\n",
       "      <td>...</td>\n",
       "      <td>Yes</td>\n",
       "      <td>Yes</td>\n",
       "      <td>2</td>\n",
       "      <td>Yes</td>\n",
       "      <td>M</td>\n",
       "      <td>Black</td>\n",
       "      <td>No</td>\n",
       "      <td>No</td>\n",
       "      <td>Family Member</td>\n",
       "      <td>Yes</td>\n",
       "    </tr>\n",
       "    <tr>\n",
       "      <th>6</th>\n",
       "      <td>7</td>\n",
       "      <td>1</td>\n",
       "      <td>0</td>\n",
       "      <td>0</td>\n",
       "      <td>1</td>\n",
       "      <td>1</td>\n",
       "      <td>1</td>\n",
       "      <td>0</td>\n",
       "      <td>0</td>\n",
       "      <td>1</td>\n",
       "      <td>...</td>\n",
       "      <td>Yes</td>\n",
       "      <td>Yes</td>\n",
       "      <td>4</td>\n",
       "      <td>Yes</td>\n",
       "      <td>M</td>\n",
       "      <td>Asian</td>\n",
       "      <td>Yes</td>\n",
       "      <td>No</td>\n",
       "      <td>Family Member</td>\n",
       "      <td>Yes</td>\n",
       "    </tr>\n",
       "    <tr>\n",
       "      <th>7</th>\n",
       "      <td>8</td>\n",
       "      <td>0</td>\n",
       "      <td>1</td>\n",
       "      <td>0</td>\n",
       "      <td>0</td>\n",
       "      <td>1</td>\n",
       "      <td>0</td>\n",
       "      <td>1</td>\n",
       "      <td>1</td>\n",
       "      <td>1</td>\n",
       "      <td>...</td>\n",
       "      <td>Yes</td>\n",
       "      <td>Yes</td>\n",
       "      <td>2</td>\n",
       "      <td>Yes</td>\n",
       "      <td>M</td>\n",
       "      <td>Asian</td>\n",
       "      <td>Yes</td>\n",
       "      <td>No</td>\n",
       "      <td>Family Member</td>\n",
       "      <td>Yes</td>\n",
       "    </tr>\n",
       "    <tr>\n",
       "      <th>8</th>\n",
       "      <td>9</td>\n",
       "      <td>0</td>\n",
       "      <td>0</td>\n",
       "      <td>0</td>\n",
       "      <td>0</td>\n",
       "      <td>0</td>\n",
       "      <td>0</td>\n",
       "      <td>1</td>\n",
       "      <td>0</td>\n",
       "      <td>0</td>\n",
       "      <td>...</td>\n",
       "      <td>Yes</td>\n",
       "      <td>Yes</td>\n",
       "      <td>2</td>\n",
       "      <td>Yes</td>\n",
       "      <td>M</td>\n",
       "      <td>Asian</td>\n",
       "      <td>No</td>\n",
       "      <td>No</td>\n",
       "      <td>Family Member</td>\n",
       "      <td>No</td>\n",
       "    </tr>\n",
       "    <tr>\n",
       "      <th>9</th>\n",
       "      <td>10</td>\n",
       "      <td>1</td>\n",
       "      <td>1</td>\n",
       "      <td>1</td>\n",
       "      <td>0</td>\n",
       "      <td>1</td>\n",
       "      <td>1</td>\n",
       "      <td>0</td>\n",
       "      <td>1</td>\n",
       "      <td>1</td>\n",
       "      <td>...</td>\n",
       "      <td>Yes</td>\n",
       "      <td>Yes</td>\n",
       "      <td>1</td>\n",
       "      <td>Yes</td>\n",
       "      <td>M</td>\n",
       "      <td>South Asian</td>\n",
       "      <td>No</td>\n",
       "      <td>No</td>\n",
       "      <td>Health Care Professional</td>\n",
       "      <td>Yes</td>\n",
       "    </tr>\n",
       "  </tbody>\n",
       "</table>\n",
       "<p>10 rows × 28 columns</p>\n",
       "</div>"
      ],
      "text/plain": [
       "   CASE_NO_PATIENT'S  A1  A2  A3  A4  A5  A6  A7  A8  A9  ...  \\\n",
       "0                  1   0   0   0   0   0   0   1   1   0  ...   \n",
       "1                  2   1   1   0   0   0   1   1   0   0  ...   \n",
       "2                  3   1   0   0   0   0   0   1   1   0  ...   \n",
       "3                  4   1   1   1   1   1   1   1   1   1  ...   \n",
       "4                  5   1   1   0   1   1   1   1   1   1  ...   \n",
       "5                  6   1   1   0   0   1   1   1   1   1  ...   \n",
       "6                  7   1   0   0   1   1   1   0   0   1  ...   \n",
       "7                  8   0   1   0   0   1   0   1   1   1  ...   \n",
       "8                  9   0   0   0   0   0   0   1   0   0  ...   \n",
       "9                 10   1   1   1   0   1   1   0   1   1  ...   \n",
       "\n",
       "   Global developmental delay/intellectual disability  \\\n",
       "0                                                Yes    \n",
       "1                                                Yes    \n",
       "2                                                Yes    \n",
       "3                                                Yes    \n",
       "4                                                Yes    \n",
       "5                                                Yes    \n",
       "6                                                Yes    \n",
       "7                                                Yes    \n",
       "8                                                Yes    \n",
       "9                                                Yes    \n",
       "\n",
       "   Social/Behavioural Issues  Childhood Autism Rating Scale  Anxiety_disorder  \\\n",
       "0                        Yes                              1               Yes   \n",
       "1                        Yes                              2               Yes   \n",
       "2                        Yes                              4               Yes   \n",
       "3                        Yes                              2               Yes   \n",
       "4                        Yes                              1               Yes   \n",
       "5                        Yes                              2               Yes   \n",
       "6                        Yes                              4               Yes   \n",
       "7                        Yes                              2               Yes   \n",
       "8                        Yes                              2               Yes   \n",
       "9                        Yes                              1               Yes   \n",
       "\n",
       "  Sex       Ethnicity Jaundice Family_mem_with_ASD    Who_completed_the_test  \\\n",
       "0   F  middle eastern      Yes                  No             Family Member   \n",
       "1   M  White European      Yes                  No             Family Member   \n",
       "2   M  Middle Eastern      Yes                  No             Family Member   \n",
       "3   M        Hispanic       No                  No             Family Member   \n",
       "4   F  White European       No                  No             Family Member   \n",
       "5   M           Black       No                  No             Family Member   \n",
       "6   M           Asian      Yes                  No             Family Member   \n",
       "7   M           Asian      Yes                  No             Family Member   \n",
       "8   M           Asian       No                  No             Family Member   \n",
       "9   M     South Asian       No                  No  Health Care Professional   \n",
       "\n",
       "  ASD_traits  \n",
       "0         No  \n",
       "1        Yes  \n",
       "2        Yes  \n",
       "3        Yes  \n",
       "4        Yes  \n",
       "5        Yes  \n",
       "6        Yes  \n",
       "7        Yes  \n",
       "8         No  \n",
       "9        Yes  \n",
       "\n",
       "[10 rows x 28 columns]"
      ]
     },
     "execution_count": 3,
     "metadata": {},
     "output_type": "execute_result"
    }
   ],
   "source": [
    "# check if the dataframe is loaded correctly\n",
    "asdctdf.head(10)"
   ]
  },
  {
   "cell_type": "markdown",
   "metadata": {
    "azdata_cell_guid": "e172475a-c4ee-414a-8367-9965355dbba6"
   },
   "source": [
    "## Missing Data\n",
    "\n",
    "Test your dataset for missing data and handle it as needed. Make notes in the form of code comments as to your thought process."
   ]
  },
  {
   "cell_type": "code",
   "execution_count": 4,
   "metadata": {},
   "outputs": [
    {
     "data": {
      "text/plain": [
       "CASE_NO_PATIENT'S                                      0\n",
       "A1                                                     0\n",
       "A2                                                     0\n",
       "A3                                                     0\n",
       "A4                                                     0\n",
       "A5                                                     0\n",
       "A6                                                     0\n",
       "A7                                                     0\n",
       "A8                                                     0\n",
       "A9                                                     0\n",
       "A10_Autism_Spectrum_Quotient                           0\n",
       "Social_Responsiveness_Scale                            9\n",
       "Age_Years                                              0\n",
       "Qchat_10_Score                                        39\n",
       "Speech Delay/Language Disorder                         0\n",
       "Learning disorder                                      0\n",
       "Genetic_Disorders                                      0\n",
       "Depression                                             1\n",
       "Global developmental delay/intellectual disability     0\n",
       "Social/Behavioural Issues                             14\n",
       "Childhood Autism Rating Scale                          0\n",
       "Anxiety_disorder                                       0\n",
       "Sex                                                    0\n",
       "Ethnicity                                              0\n",
       "Jaundice                                               0\n",
       "Family_mem_with_ASD                                    0\n",
       "Who_completed_the_test                                 0\n",
       "ASD_traits                                             0\n",
       "dtype: int64"
      ]
     },
     "execution_count": 4,
     "metadata": {},
     "output_type": "execute_result"
    }
   ],
   "source": [
    "#check for null values in our dataframe\n",
    "asdctdf.isna().sum()"
   ]
  },
  {
   "cell_type": "code",
   "execution_count": 5,
   "metadata": {},
   "outputs": [
    {
     "data": {
      "text/plain": [
       "CASE_NO_PATIENT'S                                      0\n",
       "A1                                                     0\n",
       "A2                                                     0\n",
       "A3                                                     0\n",
       "A4                                                     0\n",
       "A5                                                     0\n",
       "A6                                                     0\n",
       "A7                                                     0\n",
       "A8                                                     0\n",
       "A9                                                     0\n",
       "A10_Autism_Spectrum_Quotient                           0\n",
       "Social_Responsiveness_Scale                            9\n",
       "Age_Years                                              0\n",
       "Qchat_10_Score                                         0\n",
       "Speech Delay/Language Disorder                         0\n",
       "Learning disorder                                      0\n",
       "Genetic_Disorders                                      0\n",
       "Depression                                             0\n",
       "Global developmental delay/intellectual disability     0\n",
       "Social/Behavioural Issues                             14\n",
       "Childhood Autism Rating Scale                          0\n",
       "Anxiety_disorder                                       0\n",
       "Sex                                                    0\n",
       "Ethnicity                                              0\n",
       "Jaundice                                               0\n",
       "Family_mem_with_ASD                                    0\n",
       "Who_completed_the_test                                 0\n",
       "ASD_traits                                             0\n",
       "dtype: int64"
      ]
     },
     "execution_count": 5,
     "metadata": {},
     "output_type": "execute_result"
    }
   ],
   "source": [
    "# deleting the rows that have missing values in column 'Qchat+10_Score'\n",
    "asdctdf.dropna(how='any',subset=['Qchat_10_Score'], inplace=True)\n",
    "asdctdf.isna().sum()"
   ]
  },
  {
   "cell_type": "code",
   "execution_count": 6,
   "metadata": {},
   "outputs": [
    {
     "data": {
      "text/plain": [
       "CASE_NO_PATIENT'S                                      0\n",
       "A1                                                     0\n",
       "A2                                                     0\n",
       "A3                                                     0\n",
       "A4                                                     0\n",
       "A5                                                     0\n",
       "A6                                                     0\n",
       "A7                                                     0\n",
       "A8                                                     0\n",
       "A9                                                     0\n",
       "A10_Autism_Spectrum_Quotient                           0\n",
       "Social_Responsiveness_Scale                            0\n",
       "Age_Years                                              0\n",
       "Qchat_10_Score                                         0\n",
       "Speech Delay/Language Disorder                         0\n",
       "Learning disorder                                      0\n",
       "Genetic_Disorders                                      0\n",
       "Depression                                             0\n",
       "Global developmental delay/intellectual disability     0\n",
       "Social/Behavioural Issues                             14\n",
       "Childhood Autism Rating Scale                          0\n",
       "Anxiety_disorder                                       0\n",
       "Sex                                                    0\n",
       "Ethnicity                                              0\n",
       "Jaundice                                               0\n",
       "Family_mem_with_ASD                                    0\n",
       "Who_completed_the_test                                 0\n",
       "ASD_traits                                             0\n",
       "dtype: int64"
      ]
     },
     "execution_count": 6,
     "metadata": {},
     "output_type": "execute_result"
    }
   ],
   "source": [
    "# deleting the rows that have missing values in column 'Social_Responsiveness_Scale'\n",
    "asdctdf.dropna(how='any',subset=['Social_Responsiveness_Scale'], inplace=True)\n",
    "asdctdf.isna().sum()"
   ]
  },
  {
   "cell_type": "code",
   "execution_count": 7,
   "metadata": {},
   "outputs": [
    {
     "data": {
      "text/plain": [
       "CASE_NO_PATIENT'S                                     0\n",
       "A1                                                    0\n",
       "A2                                                    0\n",
       "A3                                                    0\n",
       "A4                                                    0\n",
       "A5                                                    0\n",
       "A6                                                    0\n",
       "A7                                                    0\n",
       "A8                                                    0\n",
       "A9                                                    0\n",
       "A10_Autism_Spectrum_Quotient                          0\n",
       "Social_Responsiveness_Scale                           0\n",
       "Age_Years                                             0\n",
       "Qchat_10_Score                                        0\n",
       "Speech Delay/Language Disorder                        0\n",
       "Learning disorder                                     0\n",
       "Genetic_Disorders                                     0\n",
       "Depression                                            0\n",
       "Global developmental delay/intellectual disability    0\n",
       "Social/Behavioural Issues                             0\n",
       "Childhood Autism Rating Scale                         0\n",
       "Anxiety_disorder                                      0\n",
       "Sex                                                   0\n",
       "Ethnicity                                             0\n",
       "Jaundice                                              0\n",
       "Family_mem_with_ASD                                   0\n",
       "Who_completed_the_test                                0\n",
       "ASD_traits                                            0\n",
       "dtype: int64"
      ]
     },
     "execution_count": 7,
     "metadata": {},
     "output_type": "execute_result"
    }
   ],
   "source": [
    "# deleting the rows that have missing values in column 'Social/Behavioural Issues'\n",
    "asdctdf.dropna(how='any',subset=['Social/Behavioural Issues'], inplace=True)\n",
    "asdctdf.isna().sum()"
   ]
  },
  {
   "cell_type": "code",
   "execution_count": 8,
   "metadata": {},
   "outputs": [
    {
     "data": {
      "text/plain": [
       "(1923, 28)"
      ]
     },
     "execution_count": 8,
     "metadata": {},
     "output_type": "execute_result"
    }
   ],
   "source": [
    "asdctdf.shape"
   ]
  },
  {
   "cell_type": "markdown",
   "metadata": {
    "azdata_cell_guid": "1233f543-e9a0-4f78-96f5-d7536554102e"
   },
   "source": [
    "## Irregular Data\n",
    "\n",
    "Detect outliers in your dataset and handle them as needed. Use code comments to make notes about your thought process."
   ]
  },
  {
   "cell_type": "code",
   "execution_count": 9,
   "metadata": {
    "azdata_cell_guid": "efed50ae-16f0-471d-98e2-632553a74c12"
   },
   "outputs": [
    {
     "data": {
      "text/plain": [
       "White European    541\n",
       "Middle Eastern    360\n",
       "Asian             351\n",
       "asian             212\n",
       "south asian       206\n",
       "South Asian        47\n",
       "Black              42\n",
       "middle eastern     41\n",
       "Hispanic           37\n",
       "Others             35\n",
       "Latino             25\n",
       "black               8\n",
       "PaciFica            8\n",
       "Mixed               7\n",
       "Native Indian       2\n",
       "mixed               1\n",
       "Name: Ethnicity, dtype: int64"
      ]
     },
     "execution_count": 9,
     "metadata": {},
     "output_type": "execute_result"
    }
   ],
   "source": [
    "#checking the value counts of 'Ethnicity'\n",
    "asdctdf.Ethnicity.value_counts()"
   ]
  },
  {
   "cell_type": "code",
   "execution_count": 10,
   "metadata": {
    "scrolled": false
   },
   "outputs": [
    {
     "data": {
      "text/plain": [
       "<Axes: >"
      ]
     },
     "execution_count": 10,
     "metadata": {},
     "output_type": "execute_result"
    },
    {
     "data": {
      "image/png": "[encoded data removed]",
      "text/plain": [
       "<Figure size 640x480 with 1 Axes>"
      ]
     },
     "metadata": {},
     "output_type": "display_data"
    }
   ],
   "source": [
    "#creating a histogram to check for outliers in column 'Qchat_10_Score'\n",
    "asdctdf['Qchat_10_Score'].hist(bins=100)"
   ]
  },
  {
   "cell_type": "code",
   "execution_count": 11,
   "metadata": {},
   "outputs": [
    {
     "data": {
      "text/plain": [
       "<Axes: >"
      ]
     },
     "execution_count": 11,
     "metadata": {},
     "output_type": "execute_result"
    },
    {
     "data": {
      "image/png": "[encoded data removed]",
      "text/plain": [
       "<Figure size 640x480 with 1 Axes>"
      ]
     },
     "metadata": {},
     "output_type": "display_data"
    }
   ],
   "source": [
    "#creating a histogram to check for outliers in column 'Age_Years'\n",
    "asdctdf['Age_Years'].hist(bins=100)"
   ]
  },
  {
   "cell_type": "code",
   "execution_count": 12,
   "metadata": {},
   "outputs": [
    {
     "data": {
      "text/plain": [
       "<Axes: >"
      ]
     },
     "execution_count": 12,
     "metadata": {},
     "output_type": "execute_result"
    },
    {
     "data": {
      "image/png": "[encoded data removed]",
      "text/plain": [
       "<Figure size 640x480 with 1 Axes>"
      ]
     },
     "metadata": {},
     "output_type": "display_data"
    }
   ],
   "source": [
    "#creating a histogram to check for outliers in column 'Social_Responsiveness_Scale'\n",
    "asdctdf['Social_Responsiveness_Scale'].hist(bins=100)"
   ]
  },
  {
   "cell_type": "markdown",
   "metadata": {
    "azdata_cell_guid": "6f5b8ee0-bab3-44bc-958a-67d1e4c0407f"
   },
   "source": [
    "## Unnecessary Data\n",
    "\n",
    "Look for the different types of unnecessary data in your dataset and address it as needed. Make sure to use code comments to illustrate your thought process."
   ]
  },
  {
   "cell_type": "code",
   "execution_count": 13,
   "metadata": {
    "azdata_cell_guid": "e788a239-2fbf-41de-9bd3-19e52e3b187c"
   },
   "outputs": [
    {
     "data": {
      "text/plain": [
       "Index(['CASE_NO_PATIENT'S', 'A10_Autism_Spectrum_Quotient',\n",
       "       'Social_Responsiveness_Scale', 'Age_Years', 'Qchat_10_Score',\n",
       "       'Speech Delay/Language Disorder', 'Learning disorder',\n",
       "       'Genetic_Disorders', 'Depression',\n",
       "       'Global developmental delay/intellectual disability',\n",
       "       'Social/Behavioural Issues', 'Childhood Autism Rating Scale',\n",
       "       'Anxiety_disorder', 'Sex', 'Ethnicity', 'Jaundice',\n",
       "       'Family_mem_with_ASD', 'Who_completed_the_test', 'ASD_traits'],\n",
       "      dtype='object')"
      ]
     },
     "execution_count": 13,
     "metadata": {},
     "output_type": "execute_result"
    }
   ],
   "source": [
    "#dropping the columns A1-A9 because we donot need it for our analysis\n",
    "asdctdf.columns\n",
    "asdctdf.drop('A1',axis=1,inplace=True)\n",
    "asdctdf.drop('A2',axis=1,inplace=True)\n",
    "asdctdf.drop('A3',axis=1,inplace=True)\n",
    "asdctdf.drop('A4',axis=1,inplace=True)\n",
    "asdctdf.drop('A5',axis=1,inplace=True)\n",
    "asdctdf.drop('A6',axis=1,inplace=True)\n",
    "asdctdf.drop('A7',axis=1,inplace=True)\n",
    "asdctdf.drop('A8',axis=1,inplace=True)\n",
    "asdctdf.drop('A9',axis=1,inplace=True)\n",
    "asdctdf.columns"
   ]
  },
  {
   "cell_type": "markdown",
   "metadata": {
    "azdata_cell_guid": "53e0cf94-c68a-4fa0-9849-9505a66bcce6"
   },
   "source": [
    "## Inconsistent Data\n",
    "\n",
    "Check for inconsistent data and address any that arises. As always, use code comments to illustrate your thought process."
   ]
  },
  {
   "cell_type": "code",
   "execution_count": 14,
   "metadata": {},
   "outputs": [
    {
     "data": {
      "text/plain": [
       "Index(['CASE_NO_PATIENT'S', 'A10_Autism_Spectrum_Quotient',\n",
       "       'Social_Responsiveness_Scale', 'Age_Years', 'Qchat_10_Score',\n",
       "       'Speech_Delay_Language_Disorder', 'Learning_disorder',\n",
       "       'Genetic_Disorders', 'Depression',\n",
       "       'Global_developmental_delay_intellectual_disability',\n",
       "       'Social_Behavioural_Issues', 'Childhood_Autism_Rating_Scale',\n",
       "       'Anxiety_disorder', 'Sex', 'Ethnicity', 'Jaundice',\n",
       "       'Family_mem_with_ASD', 'Who_completed_the_test', 'ASD_traits'],\n",
       "      dtype='object')"
      ]
     },
     "execution_count": 14,
     "metadata": {},
     "output_type": "execute_result"
    }
   ],
   "source": [
    "#changing the names of the columns with spaces to underscore for ease of analysis\n",
    "asdctdf.rename(columns = \n",
    "               {'Speech Delay/Language Disorder':'Speech_Delay_Language_Disorder', \n",
    "                 'Learning disorder':'Learning_disorder',\n",
    "                 'Global developmental delay/intellectual disability':'Global_developmental_delay_intellectual_disability',\n",
    "                 'Social/Behavioural Issues':'Social_Behavioural_Issues',\n",
    "                 'Childhood Autism Rating Scale':'Childhood_Autism_Rating_Scale',\n",
    "                  }, inplace = True)\n",
    "asdctdf.columns"
   ]
  },
  {
   "cell_type": "code",
   "execution_count": 15,
   "metadata": {
    "azdata_cell_guid": "e9de6624-812a-43f8-8e20-93b4a49b091f"
   },
   "outputs": [
    {
     "data": {
      "text/plain": [
       "asian             563\n",
       "white european    541\n",
       "middle eastern    401\n",
       "south asian       253\n",
       "black              50\n",
       "hispanic           37\n",
       "others             35\n",
       "latino             25\n",
       "mixed               8\n",
       "pacifica            8\n",
       "native indian       2\n",
       "Name: Ethnicity, dtype: int64"
      ]
     },
     "execution_count": 15,
     "metadata": {},
     "output_type": "execute_result"
    }
   ],
   "source": [
    "#changing the data in column 'Ethnicity' to lower case for symetry\n",
    "asdctdf['Ethnicity'] = asdctdf['Ethnicity'].str.lower()\n",
    "#checking for inconsistency in column 'Ethnicity'\n",
    "asdctdf.Ethnicity.value_counts()"
   ]
  },
  {
   "cell_type": "code",
   "execution_count": 16,
   "metadata": {},
   "outputs": [
    {
     "data": {
      "text/plain": [
       "0    1051\n",
       "1     872\n",
       "Name: A10_Autism_Spectrum_Quotient, dtype: int64"
      ]
     },
     "execution_count": 16,
     "metadata": {},
     "output_type": "execute_result"
    }
   ],
   "source": [
    "#checking for inconsistency in column 'A10_Autism_Spectrum_Quotient'\n",
    "asdctdf.A10_Autism_Spectrum_Quotient.value_counts()"
   ]
  },
  {
   "cell_type": "code",
   "execution_count": 17,
   "metadata": {},
   "outputs": [
    {
     "data": {
      "text/plain": [
       "0.0     736\n",
       "1.0     263\n",
       "10.0    240\n",
       "3.0     161\n",
       "2.0     142\n",
       "9.0     120\n",
       "5.0     112\n",
       "7.0     102\n",
       "4.0      24\n",
       "8.0      12\n",
       "6.0      11\n",
       "Name: Social_Responsiveness_Scale, dtype: int64"
      ]
     },
     "execution_count": 17,
     "metadata": {},
     "output_type": "execute_result"
    }
   ],
   "source": [
    "#checking for inconsistency in column 'Social_Responsiveness_Scale'\n",
    "asdctdf.Social_Responsiveness_Scale.value_counts()"
   ]
  },
  {
   "cell_type": "code",
   "execution_count": 18,
   "metadata": {},
   "outputs": [
    {
     "data": {
      "text/plain": [
       "14    592\n",
       "7     332\n",
       "9     204\n",
       "5     138\n",
       "8     137\n",
       "4     134\n",
       "3      95\n",
       "17     68\n",
       "15     56\n",
       "2      28\n",
       "12     27\n",
       "6      24\n",
       "10     24\n",
       "1      20\n",
       "13     15\n",
       "16     14\n",
       "18      9\n",
       "11      6\n",
       "Name: Age_Years, dtype: int64"
      ]
     },
     "execution_count": 18,
     "metadata": {},
     "output_type": "execute_result"
    }
   ],
   "source": [
    "#checking for inconsistency in column 'Age_Years'\n",
    "asdctdf.Age_Years.value_counts()"
   ]
  },
  {
   "cell_type": "code",
   "execution_count": 19,
   "metadata": {},
   "outputs": [
    {
     "data": {
      "text/plain": [
       "6.0     310\n",
       "3.0     298\n",
       "1.0     292\n",
       "0.0     183\n",
       "5.0     175\n",
       "2.0     138\n",
       "7.0     136\n",
       "4.0     111\n",
       "8.0      97\n",
       "10.0     94\n",
       "9.0      89\n",
       "Name: Qchat_10_Score, dtype: int64"
      ]
     },
     "execution_count": 19,
     "metadata": {},
     "output_type": "execute_result"
    }
   ],
   "source": [
    "#checking for inconsistency in column 'Qchat_10_Score'\n",
    "asdctdf.Qchat_10_Score.value_counts()"
   ]
  },
  {
   "cell_type": "code",
   "execution_count": 20,
   "metadata": {},
   "outputs": [
    {
     "data": {
      "text/plain": [
       "Yes    1034\n",
       "No      889\n",
       "Name: Speech_Delay_Language_Disorder, dtype: int64"
      ]
     },
     "execution_count": 20,
     "metadata": {},
     "output_type": "execute_result"
    }
   ],
   "source": [
    "#checking for inconsistency in column 'Speech_Delay_Language_Disorder'\n",
    "asdctdf.Speech_Delay_Language_Disorder.value_counts()"
   ]
  },
  {
   "cell_type": "code",
   "execution_count": 21,
   "metadata": {},
   "outputs": [
    {
     "data": {
      "text/plain": [
       "Yes    1050\n",
       "No      873\n",
       "Name: Learning_disorder, dtype: int64"
      ]
     },
     "execution_count": 21,
     "metadata": {},
     "output_type": "execute_result"
    }
   ],
   "source": [
    "#checking for inconsistency in column 'Learning_disorder'\n",
    "asdctdf.Learning_disorder.value_counts()"
   ]
  },
  {
   "cell_type": "code",
   "execution_count": 22,
   "metadata": {},
   "outputs": [
    {
     "data": {
      "text/plain": [
       "Yes    991\n",
       "No     932\n",
       "Name: Genetic_Disorders, dtype: int64"
      ]
     },
     "execution_count": 22,
     "metadata": {},
     "output_type": "execute_result"
    }
   ],
   "source": [
    "#checking for inconsistency in column 'Genetic_Disorders'\n",
    "asdctdf.Genetic_Disorders.value_counts()"
   ]
  },
  {
   "cell_type": "code",
   "execution_count": 23,
   "metadata": {},
   "outputs": [
    {
     "data": {
      "text/plain": [
       "Yes    1031\n",
       "No      892\n",
       "Name: Depression, dtype: int64"
      ]
     },
     "execution_count": 23,
     "metadata": {},
     "output_type": "execute_result"
    }
   ],
   "source": [
    "#checking for inconsistency in column 'Depression'\n",
    "asdctdf.Depression.value_counts()"
   ]
  },
  {
   "cell_type": "code",
   "execution_count": 24,
   "metadata": {},
   "outputs": [
    {
     "data": {
      "text/plain": [
       "Yes    1031\n",
       "No      892\n",
       "Name: Global_developmental_delay_intellectual_disability, dtype: int64"
      ]
     },
     "execution_count": 24,
     "metadata": {},
     "output_type": "execute_result"
    }
   ],
   "source": [
    "#checking for inconsistency in column 'Global_developmental_delay_intellectual_disability'\n",
    "asdctdf.Global_developmental_delay_intellectual_disability.value_counts()"
   ]
  },
  {
   "cell_type": "code",
   "execution_count": 25,
   "metadata": {},
   "outputs": [
    {
     "data": {
      "text/plain": [
       "Yes    1031\n",
       "No      892\n",
       "Name: Social_Behavioural_Issues, dtype: int64"
      ]
     },
     "execution_count": 25,
     "metadata": {},
     "output_type": "execute_result"
    }
   ],
   "source": [
    "#checking for inconsistency in column 'Social_Behavioural_Issues'\n",
    "asdctdf.Social_Behavioural_Issues.value_counts()"
   ]
  },
  {
   "cell_type": "code",
   "execution_count": 26,
   "metadata": {},
   "outputs": [
    {
     "data": {
      "text/plain": [
       "1    1113\n",
       "2     495\n",
       "4     246\n",
       "3      69\n",
       "Name: Childhood_Autism_Rating_Scale, dtype: int64"
      ]
     },
     "execution_count": 26,
     "metadata": {},
     "output_type": "execute_result"
    }
   ],
   "source": [
    "#checking for inconsistency in column 'Childhood_Autism_Rating_Scale'\n",
    "asdctdf.Childhood_Autism_Rating_Scale.value_counts()"
   ]
  },
  {
   "cell_type": "code",
   "execution_count": 27,
   "metadata": {},
   "outputs": [
    {
     "data": {
      "text/plain": [
       "Yes    1028\n",
       "No      895\n",
       "Name: Anxiety_disorder, dtype: int64"
      ]
     },
     "execution_count": 27,
     "metadata": {},
     "output_type": "execute_result"
    }
   ],
   "source": [
    "#checking for inconsistency in column 'Anxiety_disorder' \n",
    "asdctdf.Anxiety_disorder.value_counts()"
   ]
  },
  {
   "cell_type": "code",
   "execution_count": 28,
   "metadata": {},
   "outputs": [
    {
     "data": {
      "text/plain": [
       "M    1388\n",
       "F     535\n",
       "Name: Sex, dtype: int64"
      ]
     },
     "execution_count": 28,
     "metadata": {},
     "output_type": "execute_result"
    }
   ],
   "source": [
    "#checking for inconsistency in column 'Sex'\n",
    "asdctdf.Sex.value_counts()"
   ]
  },
  {
   "cell_type": "code",
   "execution_count": 29,
   "metadata": {},
   "outputs": [
    {
     "data": {
      "text/plain": [
       "Yes    1482\n",
       "No      441\n",
       "Name: Jaundice, dtype: int64"
      ]
     },
     "execution_count": 29,
     "metadata": {},
     "output_type": "execute_result"
    }
   ],
   "source": [
    "#checking for inconsistency in column 'Jaundice'\n",
    "asdctdf.Jaundice.value_counts()"
   ]
  },
  {
   "cell_type": "code",
   "execution_count": 30,
   "metadata": {},
   "outputs": [
    {
     "data": {
      "text/plain": [
       "No     1319\n",
       "Yes     604\n",
       "Name: Family_mem_with_ASD, dtype: int64"
      ]
     },
     "execution_count": 30,
     "metadata": {},
     "output_type": "execute_result"
    }
   ],
   "source": [
    "#checking for inconsistency in column 'Family_mem_with_ASD'\n",
    "asdctdf.Family_mem_with_ASD.value_counts()"
   ]
  },
  {
   "cell_type": "code",
   "execution_count": 31,
   "metadata": {},
   "outputs": [
    {
     "data": {
      "text/plain": [
       "health care professional    1197\n",
       "family member                701\n",
       "school and ngo                18\n",
       "self                           4\n",
       "others                         3\n",
       "Name: Who_completed_the_test, dtype: int64"
      ]
     },
     "execution_count": 31,
     "metadata": {},
     "output_type": "execute_result"
    }
   ],
   "source": [
    "#changing the data in column 'Who_completed_the_test' to lower case for symetry\n",
    "asdctdf['Who_completed_the_test'] = asdctdf['Who_completed_the_test'].str.lower()\n",
    "#checking for inconsistency in column 'Who_completed_the_test'\n",
    "asdctdf.Who_completed_the_test.value_counts()"
   ]
  },
  {
   "cell_type": "code",
   "execution_count": 32,
   "metadata": {},
   "outputs": [
    {
     "data": {
      "text/plain": [
       "Yes    1018\n",
       "No      905\n",
       "Name: ASD_traits, dtype: int64"
      ]
     },
     "execution_count": 32,
     "metadata": {},
     "output_type": "execute_result"
    }
   ],
   "source": [
    "#checking for inconsistency in column 'ASD_traits'\n",
    "asdctdf.ASD_traits.value_counts()"
   ]
  },
  {
   "cell_type": "markdown",
   "metadata": {
    "azdata_cell_guid": "dedc0bfe-17d0-40b2-914f-2ddb54f9ce0d"
   },
   "source": [
    "## Summarize Your Results\n",
    "\n",
    "Make note of your answers to the following questions.\n",
    "\n",
    "1. Did you find all four types of dirty data in your dataset? I found missing values which i dropped as they were few and could not be replaced with mean or any other way. \n",
    "I found inconsistent data in 'Ethnicity' and 'Who_completed_the_test' columns. Overcame it by changing the case to lower.\n",
    "I did not find any outliers in my data.\n",
    "I found unnecessary columns for my analysis hence dropped them.\n",
    "2. Did the process of cleaning your data give you new insights into your dataset?\n",
    "Yes, It helped me understand the dataset better.\n",
    "3. Is there anything you would like to make note of when it comes to manipulating the data and making visualizations?\n",
    "Nothing at this point."
   ]
  },
  {
   "cell_type": "code",
   "execution_count": 33,
   "metadata": {},
   "outputs": [],
   "source": [
    "#creating the new csv file named Autism_prediction.csv for further analysis\n",
    "asdctdf.to_csv(\"Autism_prediction.csv\", sep=',')\n"
   ]
  },
  {
   "cell_type": "code",
   "execution_count": 34,
   "metadata": {},
   "outputs": [
    {
     "data": {
      "text/html": [
       "<div>\n",
       "<style scoped>\n",
       "    .dataframe tbody tr th:only-of-type {\n",
       "        vertical-align: middle;\n",
       "    }\n",
       "\n",
       "    .dataframe tbody tr th {\n",
       "        vertical-align: top;\n",
       "    }\n",
       "\n",
       "    .dataframe thead th {\n",
       "        text-align: right;\n",
       "    }\n",
       "</style>\n",
       "<table border=\"1\" class=\"dataframe\">\n",
       "  <thead>\n",
       "    <tr style=\"text-align: right;\">\n",
       "      <th></th>\n",
       "      <th>Unnamed: 0</th>\n",
       "      <th>CASE_NO_PATIENT'S</th>\n",
       "      <th>A10_Autism_Spectrum_Quotient</th>\n",
       "      <th>Social_Responsiveness_Scale</th>\n",
       "      <th>Age_Years</th>\n",
       "      <th>Qchat_10_Score</th>\n",
       "      <th>Speech_Delay_Language_Disorder</th>\n",
       "      <th>Learning_disorder</th>\n",
       "      <th>Genetic_Disorders</th>\n",
       "      <th>Depression</th>\n",
       "      <th>Global_developmental_delay_intellectual_disability</th>\n",
       "      <th>Social_Behavioural_Issues</th>\n",
       "      <th>Childhood_Autism_Rating_Scale</th>\n",
       "      <th>Anxiety_disorder</th>\n",
       "      <th>Sex</th>\n",
       "      <th>Ethnicity</th>\n",
       "      <th>Jaundice</th>\n",
       "      <th>Family_mem_with_ASD</th>\n",
       "      <th>Who_completed_the_test</th>\n",
       "      <th>ASD_traits</th>\n",
       "    </tr>\n",
       "  </thead>\n",
       "  <tbody>\n",
       "    <tr>\n",
       "      <th>0</th>\n",
       "      <td>0</td>\n",
       "      <td>1</td>\n",
       "      <td>1</td>\n",
       "      <td>3.0</td>\n",
       "      <td>2</td>\n",
       "      <td>3.0</td>\n",
       "      <td>Yes</td>\n",
       "      <td>Yes</td>\n",
       "      <td>Yes</td>\n",
       "      <td>Yes</td>\n",
       "      <td>Yes</td>\n",
       "      <td>Yes</td>\n",
       "      <td>1</td>\n",
       "      <td>Yes</td>\n",
       "      <td>F</td>\n",
       "      <td>middle eastern</td>\n",
       "      <td>Yes</td>\n",
       "      <td>No</td>\n",
       "      <td>family member</td>\n",
       "      <td>No</td>\n",
       "    </tr>\n",
       "    <tr>\n",
       "      <th>1</th>\n",
       "      <td>1</td>\n",
       "      <td>2</td>\n",
       "      <td>0</td>\n",
       "      <td>6.0</td>\n",
       "      <td>3</td>\n",
       "      <td>4.0</td>\n",
       "      <td>Yes</td>\n",
       "      <td>Yes</td>\n",
       "      <td>Yes</td>\n",
       "      <td>Yes</td>\n",
       "      <td>Yes</td>\n",
       "      <td>Yes</td>\n",
       "      <td>2</td>\n",
       "      <td>Yes</td>\n",
       "      <td>M</td>\n",
       "      <td>white european</td>\n",
       "      <td>Yes</td>\n",
       "      <td>No</td>\n",
       "      <td>family member</td>\n",
       "      <td>Yes</td>\n",
       "    </tr>\n",
       "    <tr>\n",
       "      <th>2</th>\n",
       "      <td>2</td>\n",
       "      <td>3</td>\n",
       "      <td>1</td>\n",
       "      <td>7.0</td>\n",
       "      <td>3</td>\n",
       "      <td>4.0</td>\n",
       "      <td>Yes</td>\n",
       "      <td>Yes</td>\n",
       "      <td>Yes</td>\n",
       "      <td>Yes</td>\n",
       "      <td>Yes</td>\n",
       "      <td>Yes</td>\n",
       "      <td>4</td>\n",
       "      <td>Yes</td>\n",
       "      <td>M</td>\n",
       "      <td>middle eastern</td>\n",
       "      <td>Yes</td>\n",
       "      <td>No</td>\n",
       "      <td>family member</td>\n",
       "      <td>Yes</td>\n",
       "    </tr>\n",
       "    <tr>\n",
       "      <th>3</th>\n",
       "      <td>3</td>\n",
       "      <td>4</td>\n",
       "      <td>1</td>\n",
       "      <td>1.0</td>\n",
       "      <td>2</td>\n",
       "      <td>10.0</td>\n",
       "      <td>Yes</td>\n",
       "      <td>Yes</td>\n",
       "      <td>No</td>\n",
       "      <td>Yes</td>\n",
       "      <td>Yes</td>\n",
       "      <td>Yes</td>\n",
       "      <td>2</td>\n",
       "      <td>Yes</td>\n",
       "      <td>M</td>\n",
       "      <td>hispanic</td>\n",
       "      <td>No</td>\n",
       "      <td>No</td>\n",
       "      <td>family member</td>\n",
       "      <td>Yes</td>\n",
       "    </tr>\n",
       "    <tr>\n",
       "      <th>4</th>\n",
       "      <td>4</td>\n",
       "      <td>5</td>\n",
       "      <td>1</td>\n",
       "      <td>3.0</td>\n",
       "      <td>2</td>\n",
       "      <td>9.0</td>\n",
       "      <td>Yes</td>\n",
       "      <td>Yes</td>\n",
       "      <td>No</td>\n",
       "      <td>Yes</td>\n",
       "      <td>Yes</td>\n",
       "      <td>Yes</td>\n",
       "      <td>1</td>\n",
       "      <td>Yes</td>\n",
       "      <td>F</td>\n",
       "      <td>white european</td>\n",
       "      <td>No</td>\n",
       "      <td>No</td>\n",
       "      <td>family member</td>\n",
       "      <td>Yes</td>\n",
       "    </tr>\n",
       "    <tr>\n",
       "      <th>5</th>\n",
       "      <td>5</td>\n",
       "      <td>6</td>\n",
       "      <td>1</td>\n",
       "      <td>3.0</td>\n",
       "      <td>2</td>\n",
       "      <td>8.0</td>\n",
       "      <td>Yes</td>\n",
       "      <td>Yes</td>\n",
       "      <td>No</td>\n",
       "      <td>Yes</td>\n",
       "      <td>Yes</td>\n",
       "      <td>Yes</td>\n",
       "      <td>2</td>\n",
       "      <td>Yes</td>\n",
       "      <td>M</td>\n",
       "      <td>black</td>\n",
       "      <td>No</td>\n",
       "      <td>No</td>\n",
       "      <td>family member</td>\n",
       "      <td>Yes</td>\n",
       "    </tr>\n",
       "    <tr>\n",
       "      <th>6</th>\n",
       "      <td>6</td>\n",
       "      <td>7</td>\n",
       "      <td>0</td>\n",
       "      <td>3.0</td>\n",
       "      <td>3</td>\n",
       "      <td>5.0</td>\n",
       "      <td>Yes</td>\n",
       "      <td>Yes</td>\n",
       "      <td>Yes</td>\n",
       "      <td>Yes</td>\n",
       "      <td>Yes</td>\n",
       "      <td>Yes</td>\n",
       "      <td>4</td>\n",
       "      <td>Yes</td>\n",
       "      <td>M</td>\n",
       "      <td>asian</td>\n",
       "      <td>Yes</td>\n",
       "      <td>No</td>\n",
       "      <td>family member</td>\n",
       "      <td>Yes</td>\n",
       "    </tr>\n",
       "    <tr>\n",
       "      <th>7</th>\n",
       "      <td>7</td>\n",
       "      <td>8</td>\n",
       "      <td>1</td>\n",
       "      <td>3.0</td>\n",
       "      <td>3</td>\n",
       "      <td>6.0</td>\n",
       "      <td>Yes</td>\n",
       "      <td>Yes</td>\n",
       "      <td>Yes</td>\n",
       "      <td>Yes</td>\n",
       "      <td>Yes</td>\n",
       "      <td>Yes</td>\n",
       "      <td>2</td>\n",
       "      <td>Yes</td>\n",
       "      <td>M</td>\n",
       "      <td>asian</td>\n",
       "      <td>Yes</td>\n",
       "      <td>No</td>\n",
       "      <td>family member</td>\n",
       "      <td>Yes</td>\n",
       "    </tr>\n",
       "    <tr>\n",
       "      <th>8</th>\n",
       "      <td>8</td>\n",
       "      <td>9</td>\n",
       "      <td>1</td>\n",
       "      <td>5.0</td>\n",
       "      <td>3</td>\n",
       "      <td>2.0</td>\n",
       "      <td>Yes</td>\n",
       "      <td>Yes</td>\n",
       "      <td>No</td>\n",
       "      <td>Yes</td>\n",
       "      <td>Yes</td>\n",
       "      <td>Yes</td>\n",
       "      <td>2</td>\n",
       "      <td>Yes</td>\n",
       "      <td>M</td>\n",
       "      <td>asian</td>\n",
       "      <td>No</td>\n",
       "      <td>No</td>\n",
       "      <td>family member</td>\n",
       "      <td>No</td>\n",
       "    </tr>\n",
       "    <tr>\n",
       "      <th>9</th>\n",
       "      <td>9</td>\n",
       "      <td>10</td>\n",
       "      <td>1</td>\n",
       "      <td>6.0</td>\n",
       "      <td>2</td>\n",
       "      <td>8.0</td>\n",
       "      <td>Yes</td>\n",
       "      <td>Yes</td>\n",
       "      <td>No</td>\n",
       "      <td>Yes</td>\n",
       "      <td>Yes</td>\n",
       "      <td>Yes</td>\n",
       "      <td>1</td>\n",
       "      <td>Yes</td>\n",
       "      <td>M</td>\n",
       "      <td>south asian</td>\n",
       "      <td>No</td>\n",
       "      <td>No</td>\n",
       "      <td>health care professional</td>\n",
       "      <td>Yes</td>\n",
       "    </tr>\n",
       "  </tbody>\n",
       "</table>\n",
       "</div>"
      ],
      "text/plain": [
       "   Unnamed: 0  CASE_NO_PATIENT'S  A10_Autism_Spectrum_Quotient  \\\n",
       "0           0                  1                             1   \n",
       "1           1                  2                             0   \n",
       "2           2                  3                             1   \n",
       "3           3                  4                             1   \n",
       "4           4                  5                             1   \n",
       "5           5                  6                             1   \n",
       "6           6                  7                             0   \n",
       "7           7                  8                             1   \n",
       "8           8                  9                             1   \n",
       "9           9                 10                             1   \n",
       "\n",
       "   Social_Responsiveness_Scale  Age_Years  Qchat_10_Score  \\\n",
       "0                          3.0          2             3.0   \n",
       "1                          6.0          3             4.0   \n",
       "2                          7.0          3             4.0   \n",
       "3                          1.0          2            10.0   \n",
       "4                          3.0          2             9.0   \n",
       "5                          3.0          2             8.0   \n",
       "6                          3.0          3             5.0   \n",
       "7                          3.0          3             6.0   \n",
       "8                          5.0          3             2.0   \n",
       "9                          6.0          2             8.0   \n",
       "\n",
       "  Speech_Delay_Language_Disorder Learning_disorder Genetic_Disorders  \\\n",
       "0                            Yes               Yes               Yes   \n",
       "1                            Yes               Yes               Yes   \n",
       "2                            Yes               Yes               Yes   \n",
       "3                            Yes               Yes                No   \n",
       "4                            Yes               Yes                No   \n",
       "5                            Yes               Yes                No   \n",
       "6                            Yes               Yes               Yes   \n",
       "7                            Yes               Yes               Yes   \n",
       "8                            Yes               Yes                No   \n",
       "9                            Yes               Yes                No   \n",
       "\n",
       "  Depression Global_developmental_delay_intellectual_disability  \\\n",
       "0        Yes                                                Yes   \n",
       "1        Yes                                                Yes   \n",
       "2        Yes                                                Yes   \n",
       "3        Yes                                                Yes   \n",
       "4        Yes                                                Yes   \n",
       "5        Yes                                                Yes   \n",
       "6        Yes                                                Yes   \n",
       "7        Yes                                                Yes   \n",
       "8        Yes                                                Yes   \n",
       "9        Yes                                                Yes   \n",
       "\n",
       "  Social_Behavioural_Issues  Childhood_Autism_Rating_Scale Anxiety_disorder  \\\n",
       "0                       Yes                              1              Yes   \n",
       "1                       Yes                              2              Yes   \n",
       "2                       Yes                              4              Yes   \n",
       "3                       Yes                              2              Yes   \n",
       "4                       Yes                              1              Yes   \n",
       "5                       Yes                              2              Yes   \n",
       "6                       Yes                              4              Yes   \n",
       "7                       Yes                              2              Yes   \n",
       "8                       Yes                              2              Yes   \n",
       "9                       Yes                              1              Yes   \n",
       "\n",
       "  Sex       Ethnicity Jaundice Family_mem_with_ASD    Who_completed_the_test  \\\n",
       "0   F  middle eastern      Yes                  No             family member   \n",
       "1   M  white european      Yes                  No             family member   \n",
       "2   M  middle eastern      Yes                  No             family member   \n",
       "3   M        hispanic       No                  No             family member   \n",
       "4   F  white european       No                  No             family member   \n",
       "5   M           black       No                  No             family member   \n",
       "6   M           asian      Yes                  No             family member   \n",
       "7   M           asian      Yes                  No             family member   \n",
       "8   M           asian       No                  No             family member   \n",
       "9   M     south asian       No                  No  health care professional   \n",
       "\n",
       "  ASD_traits  \n",
       "0         No  \n",
       "1        Yes  \n",
       "2        Yes  \n",
       "3        Yes  \n",
       "4        Yes  \n",
       "5        Yes  \n",
       "6        Yes  \n",
       "7        Yes  \n",
       "8         No  \n",
       "9        Yes  "
      ]
     },
     "execution_count": 34,
     "metadata": {},
     "output_type": "execute_result"
    }
   ],
   "source": [
    "#loading it into a new dataframe \n",
    "apdf=pd.read_csv(\"Autism_prediction.csv\")\n",
    "#checking to see if the data is loaded properly.\n",
    "apdf.head(10)"
   ]
  }
 ],
 "metadata": {
  "kernelspec": {
   "display_name": "Python 3 (ipykernel)",
   "language": "python",
   "name": "python3"
  },
  "language_info": {
   "codemirror_mode": {
    "name": "ipython",
    "version": 3
   },
   "file_extension": ".py",
   "mimetype": "text/x-python",
   "name": "python",
   "nbconvert_exporter": "python",
   "pygments_lexer": "ipython3",
   "version": "3.10.9"
  }
 },
 "nbformat": 4,
 "nbformat_minor": 2
}
